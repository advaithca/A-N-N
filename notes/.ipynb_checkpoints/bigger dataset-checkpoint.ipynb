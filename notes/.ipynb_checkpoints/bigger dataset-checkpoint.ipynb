{
 "cells": [
  {
   "cell_type": "code",
   "execution_count": 1,
   "id": "40ee8ac9-c324-4504-aa67-0b2c4deac57d",
   "metadata": {},
   "outputs": [],
   "source": [
    "import pandas as pd\n",
    "import numpy as np\n",
    "from ucimlrepo import fetch_ucirepo"
   ]
  },
  {
   "cell_type": "code",
   "execution_count": 2,
   "id": "f6fd5843-07a8-4850-90ee-1b8c3eaa4587",
   "metadata": {},
   "outputs": [],
   "source": [
    "dry_bean_dataset = fetch_ucirepo(id=602) \n",
    "  \n",
    "X = dry_bean_dataset.data.features \n",
    "y = dry_bean_dataset.data.targets "
   ]
  },
  {
   "cell_type": "code",
   "execution_count": 3,
   "id": "ee18bcec-cd35-4e51-95b7-0a5300fec2b5",
   "metadata": {
    "scrolled": true
   },
   "outputs": [
    {
     "data": {
      "text/plain": [
       "array([[2.83950000e+04, 6.10291000e+02, 2.08178117e+02, ...,\n",
       "        3.14728900e-03, 8.34222388e-01, 9.98723889e-01],\n",
       "       [2.87340000e+04, 6.38018000e+02, 2.00524796e+02, ...,\n",
       "        3.56362400e-03, 9.09850506e-01, 9.98430331e-01],\n",
       "       [2.93800000e+04, 6.24110000e+02, 2.12826130e+02, ...,\n",
       "        3.04773300e-03, 8.25870617e-01, 9.99066137e-01],\n",
       "       ...,\n",
       "       [4.21390000e+04, 7.59321000e+02, 2.81539928e+02, ...,\n",
       "        1.88827100e-03, 6.76884164e-01, 9.96767264e-01],\n",
       "       [4.21470000e+04, 7.63779000e+02, 2.83382636e+02, ...,\n",
       "        1.85202500e-03, 6.68236684e-01, 9.95222420e-01],\n",
       "       [4.21590000e+04, 7.72237000e+02, 2.95142741e+02, ...,\n",
       "        1.63981200e-03, 6.16220592e-01, 9.98179623e-01]])"
      ]
     },
     "execution_count": 3,
     "metadata": {},
     "output_type": "execute_result"
    }
   ],
   "source": [
    "X_arr = np.array(X.iloc[:,:])\n",
    "\n",
    "X_arr"
   ]
  },
  {
   "cell_type": "code",
   "execution_count": 4,
   "id": "a728c72f-5cbc-4313-90cb-7280729cee2e",
   "metadata": {},
   "outputs": [
    {
     "name": "stderr",
     "output_type": "stream",
     "text": [
      "C:\\Users\\advai\\AppData\\Local\\Temp\\ipykernel_8080\\840677549.py:4: SettingWithCopyWarning: \n",
      "A value is trying to be set on a copy of a slice from a DataFrame.\n",
      "Try using .loc[row_indexer,col_indexer] = value instead\n",
      "\n",
      "See the caveats in the documentation: https://pandas.pydata.org/pandas-docs/stable/user_guide/indexing.html#returning-a-view-versus-a-copy\n",
      "  y.loc[:,c] = y['Class'].apply(lambda x: 1 if x == c else 0)\n",
      "C:\\Users\\advai\\AppData\\Local\\Temp\\ipykernel_8080\\840677549.py:4: SettingWithCopyWarning: \n",
      "A value is trying to be set on a copy of a slice from a DataFrame.\n",
      "Try using .loc[row_indexer,col_indexer] = value instead\n",
      "\n",
      "See the caveats in the documentation: https://pandas.pydata.org/pandas-docs/stable/user_guide/indexing.html#returning-a-view-versus-a-copy\n",
      "  y.loc[:,c] = y['Class'].apply(lambda x: 1 if x == c else 0)\n",
      "C:\\Users\\advai\\AppData\\Local\\Temp\\ipykernel_8080\\840677549.py:4: SettingWithCopyWarning: \n",
      "A value is trying to be set on a copy of a slice from a DataFrame.\n",
      "Try using .loc[row_indexer,col_indexer] = value instead\n",
      "\n",
      "See the caveats in the documentation: https://pandas.pydata.org/pandas-docs/stable/user_guide/indexing.html#returning-a-view-versus-a-copy\n",
      "  y.loc[:,c] = y['Class'].apply(lambda x: 1 if x == c else 0)\n",
      "C:\\Users\\advai\\AppData\\Local\\Temp\\ipykernel_8080\\840677549.py:4: SettingWithCopyWarning: \n",
      "A value is trying to be set on a copy of a slice from a DataFrame.\n",
      "Try using .loc[row_indexer,col_indexer] = value instead\n",
      "\n",
      "See the caveats in the documentation: https://pandas.pydata.org/pandas-docs/stable/user_guide/indexing.html#returning-a-view-versus-a-copy\n",
      "  y.loc[:,c] = y['Class'].apply(lambda x: 1 if x == c else 0)\n",
      "C:\\Users\\advai\\AppData\\Local\\Temp\\ipykernel_8080\\840677549.py:4: SettingWithCopyWarning: \n",
      "A value is trying to be set on a copy of a slice from a DataFrame.\n",
      "Try using .loc[row_indexer,col_indexer] = value instead\n",
      "\n",
      "See the caveats in the documentation: https://pandas.pydata.org/pandas-docs/stable/user_guide/indexing.html#returning-a-view-versus-a-copy\n",
      "  y.loc[:,c] = y['Class'].apply(lambda x: 1 if x == c else 0)\n",
      "C:\\Users\\advai\\AppData\\Local\\Temp\\ipykernel_8080\\840677549.py:4: SettingWithCopyWarning: \n",
      "A value is trying to be set on a copy of a slice from a DataFrame.\n",
      "Try using .loc[row_indexer,col_indexer] = value instead\n",
      "\n",
      "See the caveats in the documentation: https://pandas.pydata.org/pandas-docs/stable/user_guide/indexing.html#returning-a-view-versus-a-copy\n",
      "  y.loc[:,c] = y['Class'].apply(lambda x: 1 if x == c else 0)\n",
      "C:\\Users\\advai\\AppData\\Local\\Temp\\ipykernel_8080\\840677549.py:4: SettingWithCopyWarning: \n",
      "A value is trying to be set on a copy of a slice from a DataFrame.\n",
      "Try using .loc[row_indexer,col_indexer] = value instead\n",
      "\n",
      "See the caveats in the documentation: https://pandas.pydata.org/pandas-docs/stable/user_guide/indexing.html#returning-a-view-versus-a-copy\n",
      "  y.loc[:,c] = y['Class'].apply(lambda x: 1 if x == c else 0)\n"
     ]
    },
    {
     "data": {
      "text/plain": [
       "array([[0, 0, 1, ..., 0, 0, 0],\n",
       "       [0, 0, 1, ..., 0, 0, 0],\n",
       "       [0, 0, 1, ..., 0, 0, 0],\n",
       "       ...,\n",
       "       [1, 0, 0, ..., 0, 0, 0],\n",
       "       [1, 0, 0, ..., 0, 0, 0],\n",
       "       [1, 0, 0, ..., 0, 0, 0]], dtype=int64)"
      ]
     },
     "execution_count": 4,
     "metadata": {},
     "output_type": "execute_result"
    }
   ],
   "source": [
    "classes = list(y['Class'].value_counts().index)\n",
    "\n",
    "for c in classes:\n",
    "    y.loc[:,c] = y['Class'].apply(lambda x: 1 if x == c else 0)\n",
    "\n",
    "y_arr = np.array(y.iloc[:,1:])\n",
    "\n",
    "y_arr"
   ]
  },
  {
   "cell_type": "code",
   "execution_count": 6,
   "id": "c0fea339-f499-4b90-8058-cc37b16e042e",
   "metadata": {},
   "outputs": [],
   "source": [
    "from sklearn.model_selection import train_test_split"
   ]
  },
  {
   "cell_type": "code",
   "execution_count": 7,
   "id": "65b80d11-c85b-4f77-a643-d8665cd077af",
   "metadata": {},
   "outputs": [],
   "source": [
    "X_train, X_test, y_train, y_test = train_test_split(X_arr, y_arr, test_size=0.3, random_state=42)"
   ]
  },
  {
   "cell_type": "code",
   "execution_count": 8,
   "id": "f027097d-f4e9-425a-bd67-6b789dc9396a",
   "metadata": {},
   "outputs": [
    {
     "data": {
      "text/plain": [
       "array([0, 0, 1, 0, 0, 0, 0], dtype=int64)"
      ]
     },
     "execution_count": 8,
     "metadata": {},
     "output_type": "execute_result"
    }
   ],
   "source": [
    "y_arr[0]"
   ]
  },
  {
   "cell_type": "code",
   "execution_count": 16,
   "id": "879e3cfb-c5ac-49ad-ba7d-8a9161db4f17",
   "metadata": {},
   "outputs": [],
   "source": [
    "def sigmoid(x):\n",
    "    return 1/(1+np.exp(-x))\n",
    "\n",
    "def relu(x):\n",
    "    return np.maximum(x,0)"
   ]
  },
  {
   "cell_type": "code",
   "execution_count": 26,
   "id": "372bc655-d216-4923-b5a6-edc5a514c06b",
   "metadata": {},
   "outputs": [
    {
     "name": "stderr",
     "output_type": "stream",
     "text": [
      "C:\\Users\\advai\\AppData\\Local\\Temp\\ipykernel_8080\\2739321495.py:2: RuntimeWarning: overflow encountered in exp\n",
      "  return 1/(1+np.exp(-x))\n"
     ]
    },
    {
     "name": "stdout",
     "output_type": "stream",
     "text": [
      "Epoch: 5000, Loss: 0.14265202436751478\r"
     ]
    }
   ],
   "source": [
    "learning_rate = 0.0005\n",
    "epochs = 5000\n",
    "\n",
    "input_hidden1_weights = np.random.uniform(-1,1,(16,32))\n",
    "bias_hidden1_weights = np.random.uniform(-1,1,(1,32))\n",
    "hidden1_hidden2_weights = np.random.uniform(-1,1,(32,24))\n",
    "bias_hidden2_weights = np.random.uniform(-1,1,(1,24))\n",
    "hidden2_hidden3_weights = np.random.uniform(-1,1,(24,16))\n",
    "bias_hidden3_weights = np.random.uniform(-1,1,(1,16))\n",
    "hidden3_output_weights = np.random.uniform(-1,1,(16,7))\n",
    "\n",
    "for epoch in range(epochs):\n",
    "    x1 = np.matmul(X_train,input_hidden1_weights) + bias_hidden1_weights\n",
    "    x1 = relu(x1)\n",
    "    \n",
    "    x2 = np.matmul(x1, hidden1_hidden2_weights) + bias_hidden2_weights\n",
    "    x2 = sigmoid(x2)\n",
    "\n",
    "    x3 = np.matmul(x2, hidden2_hidden3_weights) + bias_hidden3_weights\n",
    "    x3 = relu(x3)\n",
    "    \n",
    "    y_pred = np.matmul(x3, hidden3_output_weights)\n",
    "    y_pred = sigmoid(y_pred)\n",
    "    \n",
    "    error = y_train - y_pred\n",
    "    \n",
    "    delK = y_pred * (1-y_pred) * error\n",
    "    delJ = np.matmul(delK, hidden3_output_weights.T) * (x3 > 0)\n",
    "    delI = np.matmul(delJ, hidden2_hidden3_weights.T) * (1 - x2)*(x2)\n",
    "    delH = np.matmul(delI, hidden1_hidden2_weights.T) * (x1 > 0)\n",
    "    \n",
    "    hidden3_output_weights += learning_rate * (x3.T @ delK)\n",
    "    hidden2_hidden3_weights += learning_rate * np.matmul(x2.T, delJ)\n",
    "    hidden1_hidden2_weights += learning_rate * np.matmul(x1.T, delI)\n",
    "    input_hidden1_weights += learning_rate * np.matmul(X_train.T, delH)\n",
    "    \n",
    "    loss = np.mean(np.square(error))\n",
    "    print(f\"Epoch: {epoch + 1}, Loss: {loss}\",end=\"\\r\")"
   ]
  },
  {
   "cell_type": "code",
   "execution_count": 27,
   "id": "490dea47-8ce5-4d2b-aef2-54ef3d826697",
   "metadata": {},
   "outputs": [
    {
     "name": "stderr",
     "output_type": "stream",
     "text": [
      "C:\\Users\\advai\\AppData\\Local\\Temp\\ipykernel_8080\\2739321495.py:2: RuntimeWarning: overflow encountered in exp\n",
      "  return 1/(1+np.exp(-x))\n"
     ]
    }
   ],
   "source": [
    "# Testing\n",
    "x1 = sigmoid(np.matmul(X_test, input_hidden1_weights))\n",
    "x2 = sigmoid(np.matmul(x1, hidden1_hidden2_weights))\n",
    "x3 = sigmoid(np.matmul(x2, hidden2_hidden3_weights))\n",
    "y_pred = sigmoid(np.matmul(x3, hidden3_output_weights))"
   ]
  },
  {
   "cell_type": "code",
   "execution_count": 28,
   "id": "26572811-0699-4d3c-9955-2fd05b6b315a",
   "metadata": {},
   "outputs": [
    {
     "data": {
      "text/plain": [
       "array([[0., 0., 0., ..., 0., 0., 1.],\n",
       "       [0., 0., 0., ..., 0., 0., 1.],\n",
       "       [0., 0., 0., ..., 0., 0., 1.],\n",
       "       ...,\n",
       "       [0., 0., 0., ..., 0., 0., 1.],\n",
       "       [0., 0., 0., ..., 0., 0., 1.],\n",
       "       [0., 0., 0., ..., 0., 0., 1.]])"
      ]
     },
     "execution_count": 28,
     "metadata": {},
     "output_type": "execute_result"
    }
   ],
   "source": [
    "idx = y_pred.argmax(axis=1)\n",
    "out = (idx[:,None] == np.arange(y_pred.shape[1])).astype(float)\n",
    "\n",
    "out"
   ]
  },
  {
   "cell_type": "code",
   "execution_count": 29,
   "id": "5ec67dcb-a094-4779-9394-6e00b27fce20",
   "metadata": {},
   "outputs": [
    {
     "name": "stdout",
     "output_type": "stream",
     "text": [
      "0.03942213516160627\n"
     ]
    }
   ],
   "source": [
    "from sklearn.metrics import classification_report, accuracy_score\n",
    "\n",
    "print(accuracy_score(y_true=y_test, y_pred=out))"
   ]
  }
 ],
 "metadata": {
  "kernelspec": {
   "display_name": "Python 3 (ipykernel)",
   "language": "python",
   "name": "python3"
  },
  "language_info": {
   "codemirror_mode": {
    "name": "ipython",
    "version": 3
   },
   "file_extension": ".py",
   "mimetype": "text/x-python",
   "name": "python",
   "nbconvert_exporter": "python",
   "pygments_lexer": "ipython3",
   "version": "3.9.13"
  }
 },
 "nbformat": 4,
 "nbformat_minor": 5
}
